{
  "nbformat": 4,
  "nbformat_minor": 0,
  "metadata": {
    "colab": {
      "provenance": [],
      "gpuType": "T4",
      "authorship_tag": "ABX9TyNSKH4Nhzx5SipKR8rJMbOC",
      "include_colab_link": true
    },
    "kernelspec": {
      "name": "python3",
      "display_name": "Python 3"
    },
    "language_info": {
      "name": "python"
    },
    "accelerator": "GPU"
  },
  "cells": [
    {
      "cell_type": "markdown",
      "metadata": {
        "id": "view-in-github",
        "colab_type": "text"
      },
      "source": [
        "<a href=\"https://colab.research.google.com/github/KCREEK/Assembly/blob/main/gpu_info_cu.ipynb\" target=\"_parent\"><img src=\"https://colab.research.google.com/assets/colab-badge.svg\" alt=\"Open In Colab\"/></a>"
      ]
    },
    {
      "cell_type": "code",
      "execution_count": 1,
      "metadata": {
        "colab": {
          "base_uri": "https://localhost:8080/"
        },
        "id": "4xkMPQx-FlxR",
        "outputId": "0e595d1c-2a4b-44b5-d2bd-df3f104e5674"
      },
      "outputs": [
        {
          "output_type": "stream",
          "name": "stdout",
          "text": [
            "Writing gpu_info.cu\n"
          ]
        }
      ],
      "source": [
        "%%writefile gpu_info.cu\n",
        "\n",
        "#include <stdio.h>\n",
        "#include <cuda_runtime.h>\n",
        "\n",
        "int main() {\n",
        "    int deviceCount;\n",
        "    cudaError_t error_id = cudaGetDeviceCount(&deviceCount);\n",
        "\n",
        "    if (error_id != cudaSuccess) {\n",
        "        printf(\"cudaGetDeviceCount returned %d\\n-> %s\\n\", (int)error_id, cudaGetErrorString(error_id));\n",
        "        printf(\"Result = FAIL\\n\");\n",
        "        return EXIT_FAILURE;\n",
        "    }\n",
        "\n",
        "    printf(\"Detected %d CUDA-capable GPU(s).\\n\", deviceCount);\n",
        "\n",
        "    for (int dev = 0; dev < deviceCount; ++dev) {\n",
        "        cudaDeviceProp deviceProp;\n",
        "        cudaGetDeviceProperties(&deviceProp, dev);\n",
        "\n",
        "        printf(\"\\nDevice %d: \\\"%s\\\"\\n\", dev, deviceProp.name);\n",
        "        printf(\"  CUDA Capability Major/Minor version number: %d.%d\\n\", deviceProp.major, deviceProp.minor);\n",
        "        printf(\"  Total amount of global memory: %.2f GB\\n\", (float)deviceProp.totalGlobalMem / (1024 * 1024 * 1024));\n",
        "        printf(\"  Multiprocessors: %d\\n\", deviceProp.multiProcessorCount);\n",
        "\n",
        "        // Calculate cores per multiprocessor based on GPU architecture\n",
        "        int coresPerMultiprocessor;\n",
        "        switch (deviceProp.major) {\n",
        "            case 2: // Fermi\n",
        "                coresPerMultiprocessor = (deviceProp.minor == 1) ? 48 : 32;\n",
        "                break;\n",
        "            case 3: // Kepler\n",
        "                coresPerMultiprocessor = 192;\n",
        "                break;\n",
        "            case 5: // Maxwell\n",
        "                coresPerMultiprocessor = 128;\n",
        "                break;\n",
        "            case 6: // Pascal\n",
        "                coresPerMultiprocessor = (deviceProp.minor == 1) ? 128 : 64;\n",
        "                break;\n",
        "            case 7: // Volta and Turing\n",
        "                coresPerMultiprocessor = 64;\n",
        "                break;\n",
        "            case 8: // Ampere\n",
        "                coresPerMultiprocessor = (deviceProp.minor == 6) ? 128 : 64;\n",
        "                break;\n",
        "            default:\n",
        "                coresPerMultiprocessor = 0;\n",
        "                printf(\"Unknown device type\\n\");\n",
        "                break;\n",
        "        }\n",
        "\n",
        "        int totalCores = coresPerMultiprocessor * deviceProp.multiProcessorCount;\n",
        "        printf(\"  Total number of cores: %d\\n\", totalCores);\n",
        "        printf(\"  Total amount of constant memory: %lu bytes\\n\", deviceProp.totalConstMem);\n",
        "        printf(\"  Total amount of shared memory per block: %lu bytes\\n\", deviceProp.sharedMemPerBlock);\n",
        "        printf(\"  Total number of registers available per block: %d\\n\", deviceProp.regsPerBlock);\n",
        "        printf(\"  Warp size: %d\\n\", deviceProp.warpSize);\n",
        "        printf(\"  Maximum threads per multiprocessor: %d\\n\", deviceProp.maxThreadsPerMultiProcessor);\n",
        "        printf(\"  Maximum threads per block: %d\\n\", deviceProp.maxThreadsPerBlock);\n",
        "        printf(\"  Max dimension size of a thread block (x, y, z): (%d, %d, %d)\\n\",\n",
        "               deviceProp.maxThreadsDim[0],\n",
        "               deviceProp.maxThreadsDim[1],\n",
        "               deviceProp.maxThreadsDim[2]);\n",
        "        printf(\"  Max dimension size of a grid size    (x, y, z): (%d, %d, %d)\\n\",\n",
        "               deviceProp.maxGridSize[0],\n",
        "               deviceProp.maxGridSize[1],\n",
        "               deviceProp.maxGridSize[2]);\n",
        "    }\n",
        "\n",
        "    return 0;\n",
        "}\n"
      ]
    },
    {
      "cell_type": "code",
      "source": [
        "!nvcc gpu_info.cu -o gpu_info\n"
      ],
      "metadata": {
        "id": "9i9SgpfsGUw2"
      },
      "execution_count": 3,
      "outputs": []
    },
    {
      "cell_type": "code",
      "source": [
        "!./gpu_info\n"
      ],
      "metadata": {
        "colab": {
          "base_uri": "https://localhost:8080/"
        },
        "id": "9MWj0yFwGqNq",
        "outputId": "1cefa167-f15f-4494-ba47-c8496bbba426"
      },
      "execution_count": 4,
      "outputs": [
        {
          "output_type": "stream",
          "name": "stdout",
          "text": [
            "Detected 1 CUDA-capable GPU(s).\n",
            "\n",
            "Device 0: \"Tesla T4\"\n",
            "  CUDA Capability Major/Minor version number: 7.5\n",
            "  Total amount of global memory: 14.75 GB\n",
            "  Multiprocessors: 40\n",
            "  Total number of cores: 2560\n",
            "  Total amount of constant memory: 65536 bytes\n",
            "  Total amount of shared memory per block: 49152 bytes\n",
            "  Total number of registers available per block: 65536\n",
            "  Warp size: 32\n",
            "  Maximum threads per multiprocessor: 1024\n",
            "  Maximum threads per block: 1024\n",
            "  Max dimension size of a thread block (x, y, z): (1024, 1024, 64)\n",
            "  Max dimension size of a grid size    (x, y, z): (2147483647, 65535, 65535)\n"
          ]
        }
      ]
    }
  ]
}