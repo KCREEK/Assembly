{
  "nbformat": 4,
  "nbformat_minor": 0,
  "metadata": {
    "colab": {
      "provenance": [],
      "include_colab_link": true
    },
    "kernelspec": {
      "name": "python3",
      "display_name": "Python 3"
    },
    "language_info": {
      "name": "python"
    }
  },
  "cells": [
    {
      "cell_type": "markdown",
      "metadata": {
        "id": "view-in-github",
        "colab_type": "text"
      },
      "source": [
        "<a href=\"https://colab.research.google.com/github/KCREEK/Assembly/blob/main/blockchain_simulation_cu.ipynb\" target=\"_parent\"><img src=\"https://colab.research.google.com/assets/colab-badge.svg\" alt=\"Open In Colab\"/></a>"
      ]
    },
    {
      "cell_type": "code",
      "execution_count": null,
      "metadata": {
        "colab": {
          "base_uri": "https://localhost:8080/"
        },
        "id": "c_ClJvgvrIE_",
        "outputId": "7162b352-c856-4e20-e12b-ae41817ffe6a"
      },
      "outputs": [
        {
          "output_type": "stream",
          "name": "stdout",
          "text": [
            "Overwriting blockchain_simulation.cu\n"
          ]
        }
      ],
      "source": [
        "%%writefile blockchain_simulation.cu\n",
        "#include <stdio.h>\n",
        "#include <stdlib.h>\n",
        "#include <cuda.h>\n",
        "\n",
        "#define MAX_BLOCKS 1024 // Max blocks for this example\n",
        "#define THREADS_PER_BLOCK 256 // Max threads per block\n",
        "\n",
        "// Structure to define a block in the blockchain\n",
        "struct Block {\n",
        "    int blockID;\n",
        "    long timestamp;\n",
        "    int transactionCount;\n",
        "    int previousHash;\n",
        "    int currentHash;\n",
        "};\n",
        "\n",
        "// Kernel to calculate block hashes\n",
        "__global__ void calculateHash(Block *blocks, int *hashes, int numBlocks) {\n",
        "    int index = blockIdx.x * blockDim.x + threadIdx.x;\n",
        "    if (index < numBlocks) {\n",
        "        hashes[index] = blocks[index].previousHash ^ blocks[index].transactionCount + blocks[index].timestamp;\n",
        "    }\n",
        "}\n",
        "\n",
        "// Kernel to count the number of blocks in the blockchain\n",
        "__global__ void countBlocks(int *count, int numBlocks) {\n",
        "    __shared__ int countCache[THREADS_PER_BLOCK];\n",
        "    int index = blockIdx.x * blockDim.x + threadIdx.x;\n",
        "\n",
        "    countCache[threadIdx.x] = (index < numBlocks) ? 1 : 0;\n",
        "    __syncthreads();\n",
        "\n",
        "    for (int offset = blockDim.x / 2; offset > 0; offset /= 2) {\n",
        "        if (threadIdx.x < offset) {\n",
        "            countCache[threadIdx.x] += countCache[threadIdx.x + offset];\n",
        "        }\n",
        "        __syncthreads();\n",
        "    }\n",
        "\n",
        "    if (threadIdx.x == 0) {\n",
        "        atomicAdd(count, countCache[0]);\n",
        "    }\n",
        "}\n",
        "\n",
        "// Function to initialize a dataset of blocks\n",
        "void initializeBlocks(Block *blocks, int numBlocks) {\n",
        "    for (int i = 0; i < numBlocks; i++) {\n",
        "        blocks[i].blockID = i;\n",
        "        blocks[i].timestamp = 1620000000 + i * 10;\n",
        "        blocks[i].transactionCount = (i % 10) + 1;\n",
        "        blocks[i].previousHash = i * 31;\n",
        "        blocks[i].currentHash = 0;\n",
        "    }\n",
        "}\n",
        "\n",
        "\n",
        "\n",
        "int main() {\n",
        "    int numBlocks = MAX_BLOCKS;\n",
        "    int *d_count;\n",
        "    int host_count = 0;\n",
        "    Block *blocks = (Block*)malloc(numBlocks * sizeof(Block));\n",
        "\n",
        "    initializeBlocks(blocks, numBlocks);\n",
        "\n",
        "    Block *d_blocks;\n",
        "    int *d_hashes;\n",
        "    cudaMalloc((void**)&d_blocks, numBlocks * sizeof(Block));\n",
        "    cudaMalloc((void**)&d_hashes, numBlocks * sizeof(int));\n",
        "    cudaMalloc((void**)&d_count, sizeof(int));\n",
        "\n",
        "\n",
        "\n",
        "    cudaMemcpy(d_blocks, blocks, numBlocks * sizeof(Block), cudaMemcpyHostToDevice);\n",
        "    cudaMemcpy(d_count, &host_count, sizeof(int), cudaMemcpyHostToDevice);\n",
        "\n",
        "    int blocksPerGrid = (numBlocks + THREADS_PER_BLOCK - 1) / THREADS_PER_BLOCK;\n",
        "\n",
        "    calculateHash<<<blocksPerGrid, THREADS_PER_BLOCK>>>(d_blocks, d_hashes, numBlocks);\n",
        "    cudaDeviceSynchronize();\n",
        "\n",
        "    countBlocks<<<blocksPerGrid, THREADS_PER_BLOCK>>>(d_count, numBlocks);\n",
        "    cudaDeviceSynchronize();\n",
        "\n",
        "    cudaMemcpy(&host_count, d_count, sizeof(int), cudaMemcpyDeviceToHost);\n",
        "    cudaMemcpy(blocks, d_blocks, numBlocks * sizeof(Block), cudaMemcpyDeviceToHost);\n",
        "\n",
        "\n",
        "\n",
        "    cudaFree(d_blocks);\n",
        "    cudaFree(d_hashes);\n",
        "    cudaFree(d_count);\n",
        "    free(blocks);\n",
        "\n",
        "    return 0;\n",
        "}\n"
      ]
    },
    {
      "cell_type": "code",
      "execution_count": 33,
      "metadata": {
        "colab": {
          "base_uri": "https://localhost:8080/"
        },
        "outputId": "8ef5f34d-84e1-41fd-eb75-763f687d9bef",
        "id": "iqGFN5hsEiNY"
      },
      "outputs": [
        {
          "output_type": "stream",
          "name": "stdout",
          "text": [
            "Overwriting blockchain_simulation.cu\n"
          ]
        }
      ],
      "source": [
        "%%writefile blockchain_simulation.cu\n",
        "#include <stdio.h>\n",
        "#include <stdlib.h>\n",
        "#include <cuda.h>\n",
        "\n",
        "#define MAX_BLOCKS 1024 // Max blocks for this example\n",
        "#define THREADS_PER_BLOCK 256 // Max threads per block\n",
        "\n",
        "// Structure to define a block in the blockchain\n",
        "struct Block {\n",
        "    int blockID;\n",
        "    long timestamp;\n",
        "    int transactionCount;\n",
        "    int previousHash;\n",
        "    int currentHash;\n",
        "};\n",
        "\n",
        "// Kernel to calculate block hashes\n",
        "__global__ void calculateHash(Block *blocks, int *hashes, int numBlocks) {\n",
        "    int index = blockIdx.x * blockDim.x + threadIdx.x;\n",
        "    if (index < numBlocks) {\n",
        "        hashes[index] = blocks[index].previousHash ^ blocks[index].transactionCount + blocks[index].timestamp;\n",
        "    }\n",
        "}\n",
        "\n",
        "// Kernel to count the number of blocks in the blockchain\n",
        "__global__ void countBlocks(int *count, int numBlocks) {\n",
        "    __shared__ int countCache[THREADS_PER_BLOCK];\n",
        "    int index = blockIdx.x * blockDim.x + threadIdx.x;\n",
        "\n",
        "    countCache[threadIdx.x] = (index < numBlocks) ? 1 : 0;\n",
        "    __syncthreads();\n",
        "\n",
        "    for (int offset = blockDim.x / 2; offset > 0; offset /= 2) {\n",
        "        if (threadIdx.x < offset) {\n",
        "            countCache[threadIdx.x] += countCache[threadIdx.x + offset];\n",
        "        }\n",
        "        __syncthreads();\n",
        "    }\n",
        "\n",
        "    if (threadIdx.x == 0) {\n",
        "        atomicAdd(count, countCache[0]);\n",
        "    }\n",
        "}\n",
        "\n",
        "// Function to initialize a dataset of blocks\n",
        "void initializeBlocks(Block *blocks, int numBlocks) {\n",
        "    for (int i = 0; i < numBlocks; i++) {\n",
        "        blocks[i].blockID = i;\n",
        "        blocks[i].timestamp = 1620000000 + i * 10;\n",
        "        blocks[i].transactionCount = (i % 10) + 1;\n",
        "        blocks[i].previousHash = i * 31;\n",
        "        blocks[i].currentHash = 0;\n",
        "    }\n",
        "}\n",
        "\n",
        "int main() {\n",
        "    int numBlocks = MAX_BLOCKS;\n",
        "    int *d_count;\n",
        "    int host_count = 0;\n",
        "    Block *blocks = (Block*)malloc(numBlocks * sizeof(Block));\n",
        "\n",
        "    initializeBlocks(blocks, numBlocks);\n",
        "\n",
        "    Block *d_blocks;\n",
        "    int *d_hashes;\n",
        "    cudaMalloc((void**)&d_blocks, numBlocks * sizeof(Block));\n",
        "    cudaMalloc((void**)&d_hashes, numBlocks * sizeof(int));\n",
        "    cudaMalloc((void**)&d_count, sizeof(int));\n",
        "\n",
        "    // Open file to write output\n",
        "    FILE *outputFile = fopen(\"output.txt\", \"w\");\n",
        "    if (outputFile) {\n",
        "        fprintf(outputFile, \"Blockchain Simulation:\\n\");\n",
        "        for (int i = 0; i < numBlocks; i++) {\n",
        "            fprintf(outputFile, \"%d\\t%ld\\t%d\\t%d\\t%d\\n\",\n",
        "                    blocks[i].blockID,\n",
        "                    blocks[i].timestamp,\n",
        "                    blocks[i].transactionCount,\n",
        "                    blocks[i].previousHash,\n",
        "                    blocks[i].currentHash);\n",
        "        }\n",
        "\n",
        "        fclose(outputFile);\n",
        "    }\n",
        "\n",
        "    cudaMemcpy(d_blocks, blocks, numBlocks * sizeof(Block), cudaMemcpyHostToDevice);\n",
        "    cudaMemcpy(d_count, &host_count, sizeof(int), cudaMemcpyHostToDevice);\n",
        "\n",
        "    int blocksPerGrid = (numBlocks + THREADS_PER_BLOCK - 1) / THREADS_PER_BLOCK;\n",
        "\n",
        "    calculateHash<<<blocksPerGrid, THREADS_PER_BLOCK>>>(d_blocks, d_hashes, numBlocks);\n",
        "    cudaDeviceSynchronize();\n",
        "\n",
        "    countBlocks<<<blocksPerGrid, THREADS_PER_BLOCK>>>(d_count, numBlocks);\n",
        "    cudaDeviceSynchronize();\n",
        "\n",
        "    cudaMemcpy(&host_count, d_count, sizeof(int), cudaMemcpyDeviceToHost);\n",
        "    cudaMemcpy(blocks, d_blocks, numBlocks * sizeof(Block), cudaMemcpyDeviceToHost);\n",
        "\n",
        "    // Free allocated memory\n",
        "    cudaFree(d_blocks);\n",
        "    cudaFree(d_hashes);\n",
        "    cudaFree(d_count);\n",
        "    free(blocks);\n",
        "\n",
        "    return 0;\n",
        "}\n"
      ]
    },
    {
      "cell_type": "code",
      "source": [
        "!nvcc blockchain_simulation.cu -o blockchain_simulation\n"
      ],
      "metadata": {
        "id": "_KY21kZErug_"
      },
      "execution_count": 34,
      "outputs": []
    },
    {
      "cell_type": "code",
      "source": [
        "!./blockchain_simulation\n"
      ],
      "metadata": {
        "id": "Y0PJthShr6xh"
      },
      "execution_count": 35,
      "outputs": []
    },
    {
      "cell_type": "code",
      "source": [
        "from google.colab import files\n",
        "files.download(\"output.txt\")\n"
      ],
      "metadata": {
        "id": "HkAlqvUyGNYf",
        "outputId": "4d7e3b8d-e1e0-474d-dc21-6259dee63a53",
        "colab": {
          "base_uri": "https://localhost:8080/",
          "height": 17
        }
      },
      "execution_count": 36,
      "outputs": [
        {
          "output_type": "display_data",
          "data": {
            "text/plain": [
              "<IPython.core.display.Javascript object>"
            ],
            "application/javascript": [
              "\n",
              "    async function download(id, filename, size) {\n",
              "      if (!google.colab.kernel.accessAllowed) {\n",
              "        return;\n",
              "      }\n",
              "      const div = document.createElement('div');\n",
              "      const label = document.createElement('label');\n",
              "      label.textContent = `Downloading \"${filename}\": `;\n",
              "      div.appendChild(label);\n",
              "      const progress = document.createElement('progress');\n",
              "      progress.max = size;\n",
              "      div.appendChild(progress);\n",
              "      document.body.appendChild(div);\n",
              "\n",
              "      const buffers = [];\n",
              "      let downloaded = 0;\n",
              "\n",
              "      const channel = await google.colab.kernel.comms.open(id);\n",
              "      // Send a message to notify the kernel that we're ready.\n",
              "      channel.send({})\n",
              "\n",
              "      for await (const message of channel.messages) {\n",
              "        // Send a message to notify the kernel that we're ready.\n",
              "        channel.send({})\n",
              "        if (message.buffers) {\n",
              "          for (const buffer of message.buffers) {\n",
              "            buffers.push(buffer);\n",
              "            downloaded += buffer.byteLength;\n",
              "            progress.value = downloaded;\n",
              "          }\n",
              "        }\n",
              "      }\n",
              "      const blob = new Blob(buffers, {type: 'application/binary'});\n",
              "      const a = document.createElement('a');\n",
              "      a.href = window.URL.createObjectURL(blob);\n",
              "      a.download = filename;\n",
              "      div.appendChild(a);\n",
              "      a.click();\n",
              "      div.remove();\n",
              "    }\n",
              "  "
            ]
          },
          "metadata": {}
        },
        {
          "output_type": "display_data",
          "data": {
            "text/plain": [
              "<IPython.core.display.Javascript object>"
            ],
            "application/javascript": [
              "download(\"download_ed6f0b6f-8a46-4a8c-b816-f8fa8ddc300f\", \"output.txt\", 25278)"
            ]
          },
          "metadata": {}
        }
      ]
    }
  ]
}